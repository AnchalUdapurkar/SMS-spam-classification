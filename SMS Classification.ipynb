{
 "cells": [
  {
   "cell_type": "markdown",
   "id": "1cb10763",
   "metadata": {},
   "source": [
    "### Step 1: Business Problem Understanding\n",
    "Goal: Classify SMS messages as either spam or ham (normal)."
   ]
  },
  {
   "cell_type": "markdown",
   "id": "4fda13b1",
   "metadata": {},
   "source": [
    "Key Points:\n",
    "* This code demonstrates how to implement multiple machine learning models (Logistic Regression, SVM, Random Forest, and Naive Bayes) for SMS spam classification.\n",
    "* It evaluates each model on accuracy, confusion matrix, classification report, and cross-validation scores to help choose the best model.\n",
    "* The steps are structured similarly to your reference but expanded with additional algorithms."
   ]
  },
  {
   "cell_type": "code",
   "execution_count": 19,
   "id": "d3785a73",
   "metadata": {},
   "outputs": [],
   "source": [
    "import numpy as np\n",
    "import pandas as pd"
   ]
  },
  {
   "cell_type": "code",
   "execution_count": 20,
   "id": "bf7a462d",
   "metadata": {},
   "outputs": [],
   "source": [
    "# load the data set\n",
    "\n",
    "df = pd.read_csv(\"SMSSpamCollection\",sep=\"\\t\",names=[\"label\",\"message\"])\n"
   ]
  },
  {
   "cell_type": "code",
   "execution_count": 21,
   "id": "44cb6023",
   "metadata": {},
   "outputs": [
    {
     "data": {
      "text/html": [
       "<div>\n",
       "<style scoped>\n",
       "    .dataframe tbody tr th:only-of-type {\n",
       "        vertical-align: middle;\n",
       "    }\n",
       "\n",
       "    .dataframe tbody tr th {\n",
       "        vertical-align: top;\n",
       "    }\n",
       "\n",
       "    .dataframe thead th {\n",
       "        text-align: right;\n",
       "    }\n",
       "</style>\n",
       "<table border=\"1\" class=\"dataframe\">\n",
       "  <thead>\n",
       "    <tr style=\"text-align: right;\">\n",
       "      <th></th>\n",
       "      <th>label</th>\n",
       "      <th>message</th>\n",
       "    </tr>\n",
       "  </thead>\n",
       "  <tbody>\n",
       "    <tr>\n",
       "      <th>0</th>\n",
       "      <td>ham</td>\n",
       "      <td>Go until jurong point, crazy.. Available only...</td>\n",
       "    </tr>\n",
       "    <tr>\n",
       "      <th>1</th>\n",
       "      <td>ham</td>\n",
       "      <td>Ok lar... Joking wif u oni...</td>\n",
       "    </tr>\n",
       "    <tr>\n",
       "      <th>2</th>\n",
       "      <td>spam</td>\n",
       "      <td>Free entry in 2 a wkly comp to win FA Cup fina...</td>\n",
       "    </tr>\n",
       "    <tr>\n",
       "      <th>3</th>\n",
       "      <td>ham</td>\n",
       "      <td>U dun say so early hor... U c already then say...</td>\n",
       "    </tr>\n",
       "    <tr>\n",
       "      <th>4</th>\n",
       "      <td>ham</td>\n",
       "      <td>Nah I don't think he goes to usf, he lives aro...</td>\n",
       "    </tr>\n",
       "  </tbody>\n",
       "</table>\n",
       "</div>"
      ],
      "text/plain": [
       "  label                                            message\n",
       "0   ham   Go until jurong point, crazy.. Available only...\n",
       "1   ham                      Ok lar... Joking wif u oni...\n",
       "2  spam  Free entry in 2 a wkly comp to win FA Cup fina...\n",
       "3   ham  U dun say so early hor... U c already then say...\n",
       "4   ham  Nah I don't think he goes to usf, he lives aro..."
      ]
     },
     "execution_count": 21,
     "metadata": {},
     "output_type": "execute_result"
    }
   ],
   "source": [
    "df.head()"
   ]
  },
  {
   "cell_type": "markdown",
   "id": "0c95c73f",
   "metadata": {},
   "source": [
    "### 2. Data Understanding"
   ]
  },
  {
   "cell_type": "code",
   "execution_count": 22,
   "id": "41b8b971",
   "metadata": {},
   "outputs": [
    {
     "data": {
      "text/plain": [
       "(5572, 2)"
      ]
     },
     "execution_count": 22,
     "metadata": {},
     "output_type": "execute_result"
    }
   ],
   "source": [
    "df.shape"
   ]
  },
  {
   "cell_type": "code",
   "execution_count": 23,
   "id": "ad522f99",
   "metadata": {},
   "outputs": [],
   "source": [
    "#    Data Understanding\n",
    "# 1. Data cleaning\n",
    "# 2. EDA\n",
    "# 3. Text Preprocessing\n",
    "# 4. Model building\n",
    "# 5. Evaluation\n",
    "# 6. Improvement\n",
    "# 7. Website\n",
    "# 8. Deploy"
   ]
  },
  {
   "cell_type": "code",
   "execution_count": 24,
   "id": "22bc783e",
   "metadata": {},
   "outputs": [
    {
     "name": "stdout",
     "output_type": "stream",
     "text": [
      "<class 'pandas.core.frame.DataFrame'>\n",
      "RangeIndex: 5572 entries, 0 to 5571\n",
      "Data columns (total 2 columns):\n",
      " #   Column   Non-Null Count  Dtype \n",
      "---  ------   --------------  ----- \n",
      " 0   label    5572 non-null   object\n",
      " 1   message  5572 non-null   object\n",
      "dtypes: object(2)\n",
      "memory usage: 87.2+ KB\n"
     ]
    }
   ],
   "source": [
    "df.info()"
   ]
  },
  {
   "cell_type": "code",
   "execution_count": 25,
   "id": "f724cb69",
   "metadata": {},
   "outputs": [
    {
     "data": {
      "text/plain": [
       "array(['ham', 'spam'], dtype=object)"
      ]
     },
     "execution_count": 25,
     "metadata": {},
     "output_type": "execute_result"
    }
   ],
   "source": [
    "df[\"label\"].unique()"
   ]
  },
  {
   "cell_type": "code",
   "execution_count": 26,
   "id": "a6be0249",
   "metadata": {},
   "outputs": [
    {
     "data": {
      "text/plain": [
       "ham     4825\n",
       "spam     747\n",
       "Name: label, dtype: int64"
      ]
     },
     "execution_count": 26,
     "metadata": {},
     "output_type": "execute_result"
    }
   ],
   "source": [
    "df[\"label\"].value_counts()"
   ]
  },
  {
   "cell_type": "code",
   "execution_count": 27,
   "id": "a4895891",
   "metadata": {},
   "outputs": [
    {
     "data": {
      "text/plain": [
       "ham     0.865937\n",
       "spam    0.134063\n",
       "Name: label, dtype: float64"
      ]
     },
     "execution_count": 27,
     "metadata": {},
     "output_type": "execute_result"
    }
   ],
   "source": [
    "df[\"label\"].value_counts(normalize=True)\n",
    "#prior probality , ham spam unique values devied by whole values"
   ]
  },
  {
   "cell_type": "markdown",
   "id": "bebf4203",
   "metadata": {},
   "source": [
    "### 3. Text Cleaning"
   ]
  },
  {
   "cell_type": "code",
   "execution_count": 28,
   "id": "2f49f958",
   "metadata": {},
   "outputs": [
    {
     "data": {
      "text/plain": [
       "label      0\n",
       "message    0\n",
       "dtype: int64"
      ]
     },
     "execution_count": 28,
     "metadata": {},
     "output_type": "execute_result"
    }
   ],
   "source": [
    "#checking if any null value is there\n",
    "\n",
    "df.isnull().sum()"
   ]
  },
  {
   "cell_type": "code",
   "execution_count": 29,
   "id": "b2d27388",
   "metadata": {},
   "outputs": [
    {
     "data": {
      "text/plain": [
       "403"
      ]
     },
     "execution_count": 29,
     "metadata": {},
     "output_type": "execute_result"
    }
   ],
   "source": [
    "#checking the duplicates\n",
    "\n",
    "df.duplicated().sum()"
   ]
  },
  {
   "cell_type": "code",
   "execution_count": 30,
   "id": "5131ee80",
   "metadata": {},
   "outputs": [],
   "source": [
    "# remove duplicates\n",
    "df = df.drop_duplicates(keep='first')"
   ]
  },
  {
   "cell_type": "code",
   "execution_count": 31,
   "id": "887ab76e",
   "metadata": {},
   "outputs": [
    {
     "data": {
      "text/plain": [
       "0"
      ]
     },
     "execution_count": 31,
     "metadata": {},
     "output_type": "execute_result"
    }
   ],
   "source": [
    "df.duplicated().sum()"
   ]
  },
  {
   "cell_type": "code",
   "execution_count": 32,
   "id": "1339ab9d",
   "metadata": {},
   "outputs": [
    {
     "data": {
      "text/plain": [
       "(5169, 2)"
      ]
     },
     "execution_count": 32,
     "metadata": {},
     "output_type": "execute_result"
    }
   ],
   "source": [
    "df.shape"
   ]
  },
  {
   "cell_type": "markdown",
   "id": "ec03ec3b",
   "metadata": {},
   "source": [
    "### 4. EDA"
   ]
  },
  {
   "cell_type": "code",
   "execution_count": 33,
   "id": "2f497a24",
   "metadata": {},
   "outputs": [
    {
     "data": {
      "text/html": [
       "<div>\n",
       "<style scoped>\n",
       "    .dataframe tbody tr th:only-of-type {\n",
       "        vertical-align: middle;\n",
       "    }\n",
       "\n",
       "    .dataframe tbody tr th {\n",
       "        vertical-align: top;\n",
       "    }\n",
       "\n",
       "    .dataframe thead th {\n",
       "        text-align: right;\n",
       "    }\n",
       "</style>\n",
       "<table border=\"1\" class=\"dataframe\">\n",
       "  <thead>\n",
       "    <tr style=\"text-align: right;\">\n",
       "      <th></th>\n",
       "      <th>label</th>\n",
       "      <th>message</th>\n",
       "    </tr>\n",
       "  </thead>\n",
       "  <tbody>\n",
       "    <tr>\n",
       "      <th>0</th>\n",
       "      <td>ham</td>\n",
       "      <td>Go until jurong point, crazy.. Available only...</td>\n",
       "    </tr>\n",
       "    <tr>\n",
       "      <th>1</th>\n",
       "      <td>ham</td>\n",
       "      <td>Ok lar... Joking wif u oni...</td>\n",
       "    </tr>\n",
       "    <tr>\n",
       "      <th>2</th>\n",
       "      <td>spam</td>\n",
       "      <td>Free entry in 2 a wkly comp to win FA Cup fina...</td>\n",
       "    </tr>\n",
       "    <tr>\n",
       "      <th>3</th>\n",
       "      <td>ham</td>\n",
       "      <td>U dun say so early hor... U c already then say...</td>\n",
       "    </tr>\n",
       "    <tr>\n",
       "      <th>4</th>\n",
       "      <td>ham</td>\n",
       "      <td>Nah I don't think he goes to usf, he lives aro...</td>\n",
       "    </tr>\n",
       "  </tbody>\n",
       "</table>\n",
       "</div>"
      ],
      "text/plain": [
       "  label                                            message\n",
       "0   ham   Go until jurong point, crazy.. Available only...\n",
       "1   ham                      Ok lar... Joking wif u oni...\n",
       "2  spam  Free entry in 2 a wkly comp to win FA Cup fina...\n",
       "3   ham  U dun say so early hor... U c already then say...\n",
       "4   ham  Nah I don't think he goes to usf, he lives aro..."
      ]
     },
     "execution_count": 33,
     "metadata": {},
     "output_type": "execute_result"
    }
   ],
   "source": [
    "df.head()"
   ]
  },
  {
   "cell_type": "code",
   "execution_count": 35,
   "id": "6855c7ae",
   "metadata": {},
   "outputs": [
    {
     "data": {
      "text/plain": [
       "ham     4516\n",
       "spam     653\n",
       "Name: label, dtype: int64"
      ]
     },
     "execution_count": 35,
     "metadata": {},
     "output_type": "execute_result"
    }
   ],
   "source": [
    "df['label'].value_counts()"
   ]
  },
  {
   "cell_type": "code",
   "execution_count": 38,
   "id": "61259588",
   "metadata": {},
   "outputs": [
    {
     "data": {
      "image/png": "[encoded data removed]",
      "text/plain": [
       "<Figure size 640x480 with 1 Axes>"
      ]
     },
     "metadata": {},
     "output_type": "display_data"
    },
    {
     "data": {
      "text/plain": [
       "ham     4516\n",
       "spam     653\n",
       "Name: label, dtype: int64"
      ]
     },
     "execution_count": 38,
     "metadata": {},
     "output_type": "execute_result"
    }
   ],
   "source": [
    "import seaborn as sns\n",
    "import matplotlib.pyplot as plt\n",
    "\n",
    "# Plotting the count of spam vs. ham\n",
    "sns.countplot(x=\"label\", data=df)\n",
    "plt.title(\"Distribution of Spam vs. Ham\")\n",
    "plt.show()\n",
    "\n",
    "# Displaying the actual numbers\n",
    "df['label'].value_counts()"
   ]
  },
  {
   "cell_type": "markdown",
   "id": "b54eda41",
   "metadata": {},
   "source": [
    "### 5. Text Preprocessing"
   ]
  },
  {
   "cell_type": "code",
   "execution_count": 41,
   "id": "e9c84436",
   "metadata": {},
   "outputs": [
    {
     "name": "stderr",
     "output_type": "stream",
     "text": [
      "[nltk_data] Downloading package stopwords to\n",
      "[nltk_data]     C:\\Users\\Lenovo\\AppData\\Roaming\\nltk_data...\n",
      "[nltk_data]   Package stopwords is already up-to-date!\n"
     ]
    }
   ],
   "source": [
    "import re\n",
    "from nltk.corpus import stopwords\n",
    "from nltk.stem import PorterStemmer\n",
    "import nltk\n",
    "\n",
    "# Download necessary NLTK data\n",
    "nltk.download('stopwords')\n",
    "\n",
    "corpus = []\n",
    "ps = PorterStemmer()\n",
    "\n",
    "# Use .iloc to iterate over rows\n",
    "for i in range(len(df)):\n",
    "    # Remove non-alphabetic characters, keeping spaces\n",
    "    p = re.sub(\"[^a-zA-Z]\", \" \", df[\"message\"].iloc[i])\n",
    "    \n",
    "    # Convert to lowercase\n",
    "    p = p.lower()\n",
    "    \n",
    "    # Tokenize the text\n",
    "    p = p.split()\n",
    "    \n",
    "    # Remove stopwords and apply stemming\n",
    "    p = [ps.stem(word) for word in p if word not in set(stopwords.words(\"english\"))]\n",
    "    \n",
    "    # Join the processed words back into a string\n",
    "    p = \" \".join(p)\n",
    "    \n",
    "    # Append the processed text to the corpus\n",
    "    corpus.append(p)\n"
   ]
  },
  {
   "cell_type": "markdown",
   "id": "5c338b8b",
   "metadata": {},
   "source": [
    "### 4. Vectorization"
   ]
  },
  {
   "cell_type": "code",
   "execution_count": 42,
   "id": "854b6f00",
   "metadata": {},
   "outputs": [],
   "source": [
    "from sklearn.feature_extraction.text import CountVectorizer\n",
    "\n",
    "# Vectorize the cleaned text\n",
    "cv = CountVectorizer(max_features=5000) \n",
    "# Limiting features to 5000\n",
    "\n",
    "X = cv.fit_transform(corpus).toarray()\n"
   ]
  },
  {
   "cell_type": "code",
   "execution_count": 43,
   "id": "f6e35c67",
   "metadata": {},
   "outputs": [],
   "source": [
    "# Encode target labels\n",
    "df[\"label\"].replace({\"ham\": 0, \"spam\": 1}, inplace=True)\n",
    "y = df[\"label\"]\n"
   ]
  },
  {
   "cell_type": "code",
   "execution_count": 44,
   "id": "ae756f89",
   "metadata": {},
   "outputs": [
    {
     "data": {
      "text/plain": [
       "(5169, 5000)"
      ]
     },
     "execution_count": 44,
     "metadata": {},
     "output_type": "execute_result"
    }
   ],
   "source": [
    "X.shape"
   ]
  },
  {
   "cell_type": "markdown",
   "id": "9ed219c9",
   "metadata": {},
   "source": [
    "### 5. Train-Test Split"
   ]
  },
  {
   "cell_type": "code",
   "execution_count": 45,
   "id": "bc7014fd",
   "metadata": {},
   "outputs": [],
   "source": [
    "from sklearn.model_selection import train_test_split\n"
   ]
  },
  {
   "cell_type": "code",
   "execution_count": 46,
   "id": "4f579398",
   "metadata": {},
   "outputs": [],
   "source": [
    "# Split data into training and testing sets\n",
    "X_train, X_test, y_train, y_test = train_test_split(X, y, test_size=0.2, random_state=42)\n"
   ]
  },
  {
   "cell_type": "markdown",
   "id": "ee668177",
   "metadata": {},
   "source": [
    "### 6. Modeling with Different Algorithms"
   ]
  },
  {
   "cell_type": "markdown",
   "id": "0267fbaf",
   "metadata": {},
   "source": [
    "1. Logistic Regression"
   ]
  },
  {
   "cell_type": "code",
   "execution_count": 47,
   "id": "e4eb07d7",
   "metadata": {},
   "outputs": [],
   "source": [
    "from sklearn.linear_model import LogisticRegression\n",
    "\n",
    "# Train logistic regression model\n",
    "lr_model = LogisticRegression()\n",
    "lr_model.fit(X_train, y_train)\n",
    "\n",
    "# Evaluate the model\n",
    "y_pred_lr = lr_model.predict(X_test)\n"
   ]
  },
  {
   "cell_type": "markdown",
   "id": "3faddcc1",
   "metadata": {},
   "source": [
    "2. Support Vector Machine (SVM)"
   ]
  },
  {
   "cell_type": "code",
   "execution_count": 48,
   "id": "953636fd",
   "metadata": {},
   "outputs": [],
   "source": [
    "from sklearn.svm import SVC\n",
    "\n",
    "# Train SVM model\n",
    "svm_model = SVC(kernel='linear')  # Using linear kernel for text data\n",
    "svm_model.fit(X_train, y_train)\n",
    "\n",
    "# Evaluate the model\n",
    "y_pred_svm = svm_model.predict(X_test)\n"
   ]
  },
  {
   "cell_type": "markdown",
   "id": "f2912f18",
   "metadata": {},
   "source": [
    "3. Random Forest Classifier"
   ]
  },
  {
   "cell_type": "code",
   "execution_count": 49,
   "id": "137b1afe",
   "metadata": {},
   "outputs": [],
   "source": [
    "from sklearn.ensemble import RandomForestClassifier\n",
    "\n",
    "# Train Random Forest model\n",
    "rf_model = RandomForestClassifier(n_estimators=100)\n",
    "rf_model.fit(X_train, y_train)\n",
    "\n",
    "# Evaluate the model\n",
    "y_pred_rf = rf_model.predict(X_test)"
   ]
  },
  {
   "cell_type": "markdown",
   "id": "adc0122e",
   "metadata": {},
   "source": [
    "4. Naive Bayes (Multinomial)"
   ]
  },
  {
   "cell_type": "code",
   "execution_count": 50,
   "id": "f174bb7b",
   "metadata": {},
   "outputs": [],
   "source": [
    "from sklearn.naive_bayes import MultinomialNB\n",
    "\n",
    "# Train Naive Bayes model\n",
    "nb_model = MultinomialNB()\n",
    "nb_model.fit(X_train, y_train)\n",
    "\n",
    "# Evaluate the model\n",
    "y_pred_nb = nb_model.predict(X_test)\n"
   ]
  },
  {
   "cell_type": "markdown",
   "id": "a1b54ffb",
   "metadata": {},
   "source": [
    "### 7. Evaluation of All Models "
   ]
  },
  {
   "cell_type": "code",
   "execution_count": 51,
   "id": "c5d2380e",
   "metadata": {},
   "outputs": [
    {
     "name": "stdout",
     "output_type": "stream",
     "text": [
      "Results for Logistic Regression:\n",
      "Accuracy: 0.9777562862669246\n",
      "Confusion Matrix:\n",
      "[[891   3]\n",
      " [ 20 120]]\n",
      "Classification Report:\n",
      "              precision    recall  f1-score   support\n",
      "\n",
      "           0       0.98      1.00      0.99       894\n",
      "           1       0.98      0.86      0.91       140\n",
      "\n",
      "    accuracy                           0.98      1034\n",
      "   macro avg       0.98      0.93      0.95      1034\n",
      "weighted avg       0.98      0.98      0.98      1034\n",
      "\n",
      "Results for SVM:\n",
      "Accuracy: 0.97678916827853\n",
      "Confusion Matrix:\n",
      "[[889   5]\n",
      " [ 19 121]]\n",
      "Classification Report:\n",
      "              precision    recall  f1-score   support\n",
      "\n",
      "           0       0.98      0.99      0.99       894\n",
      "           1       0.96      0.86      0.91       140\n",
      "\n",
      "    accuracy                           0.98      1034\n",
      "   macro avg       0.97      0.93      0.95      1034\n",
      "weighted avg       0.98      0.98      0.98      1034\n",
      "\n",
      "Results for Random Forest:\n",
      "Accuracy: 0.97678916827853\n",
      "Confusion Matrix:\n",
      "[[894   0]\n",
      " [ 24 116]]\n",
      "Classification Report:\n",
      "              precision    recall  f1-score   support\n",
      "\n",
      "           0       0.97      1.00      0.99       894\n",
      "           1       1.00      0.83      0.91       140\n",
      "\n",
      "    accuracy                           0.98      1034\n",
      "   macro avg       0.99      0.91      0.95      1034\n",
      "weighted avg       0.98      0.98      0.98      1034\n",
      "\n",
      "Results for Naive Bayes:\n",
      "Accuracy: 0.9729206963249516\n",
      "Confusion Matrix:\n",
      "[[872  22]\n",
      " [  6 134]]\n",
      "Classification Report:\n",
      "              precision    recall  f1-score   support\n",
      "\n",
      "           0       0.99      0.98      0.98       894\n",
      "           1       0.86      0.96      0.91       140\n",
      "\n",
      "    accuracy                           0.97      1034\n",
      "   macro avg       0.93      0.97      0.94      1034\n",
      "weighted avg       0.97      0.97      0.97      1034\n",
      "\n"
     ]
    }
   ],
   "source": [
    "from sklearn.metrics import accuracy_score, confusion_matrix, classification_report\n",
    "\n",
    "# Function to evaluate models\n",
    "def evaluate_model(y_test, y_pred, model_name):\n",
    "    print(f\"Results for {model_name}:\")\n",
    "    print(f\"Accuracy: {accuracy_score(y_test, y_pred)}\")\n",
    "    print(f\"Confusion Matrix:\\n{confusion_matrix(y_test, y_pred)}\")\n",
    "    print(f\"Classification Report:\\n{classification_report(y_test, y_pred)}\")\n",
    "\n",
    "# Evaluate Logistic Regression\n",
    "evaluate_model(y_test, y_pred_lr, \"Logistic Regression\")\n",
    "\n",
    "# Evaluate SVM\n",
    "evaluate_model(y_test, y_pred_svm, \"SVM\")\n",
    "\n",
    "# Evaluate Random Forest\n",
    "evaluate_model(y_test, y_pred_rf, \"Random Forest\")\n",
    "\n",
    "# Evaluate Naive Bayes\n",
    "evaluate_model(y_test, y_pred_nb, \"Naive Bayes\")\n"
   ]
  },
  {
   "cell_type": "markdown",
   "id": "6fa1107e",
   "metadata": {},
   "source": [
    "### 8. Cross Validation for Best Model Selection"
   ]
  },
  {
   "cell_type": "code",
   "execution_count": 52,
   "id": "44aad721",
   "metadata": {},
   "outputs": [
    {
     "name": "stdout",
     "output_type": "stream",
     "text": [
      "Cross-validation score (Logistic Regression): 0.9789130829624331\n",
      "Cross-validation score (SVM): 0.9791066938046404\n",
      "Cross-validation score (Random Forest): 0.9742688569283284\n",
      "Cross-validation score (Naive Bayes): 0.9779454032404539\n"
     ]
    }
   ],
   "source": [
    "from sklearn.model_selection import cross_val_score\n",
    "\n",
    "# Performing cross-validation for all models\n",
    "cv_scores_lr = cross_val_score(lr_model, X, y, cv=5).mean()\n",
    "cv_scores_svm = cross_val_score(svm_model, X, y, cv=5).mean()\n",
    "cv_scores_rf = cross_val_score(rf_model, X, y, cv=5).mean()\n",
    "cv_scores_nb = cross_val_score(nb_model, X, y, cv=5).mean()\n",
    "\n",
    "# Display cross-validation scores\n",
    "print(f\"Cross-validation score (Logistic Regression): {cv_scores_lr}\")\n",
    "print(f\"Cross-validation score (SVM): {cv_scores_svm}\")\n",
    "print(f\"Cross-validation score (Random Forest): {cv_scores_rf}\")\n",
    "print(f\"Cross-validation score (Naive Bayes): {cv_scores_nb}\")\n"
   ]
  },
  {
   "cell_type": "markdown",
   "id": "95482719",
   "metadata": {},
   "source": [
    "### 9. Prediction on New Data "
   ]
  },
  {
   "cell_type": "code",
   "execution_count": 58,
   "id": "d85dd8e1",
   "metadata": {},
   "outputs": [
    {
     "name": "stdout",
     "output_type": "stream",
     "text": [
      "Spam\n"
     ]
    }
   ],
   "source": [
    "# Example SMS\n",
    "input_sms = \"Congratulations! You've won a $500 gift card to Target. Click here to claim your reward\"\n",
    "dftest = pd.DataFrame({\"message\": [input_sms]})\n",
    "\n",
    "# Preprocess the input message\n",
    "corpus = []\n",
    "for i in range(len(dftest)):\n",
    "    p = re.sub(\"[^a-zA-Z]\", \" \", dftest[\"message\"][i])\n",
    "    p = p.lower()\n",
    "    p = p.split()\n",
    "    p = [ps.stem(word) for word in p if word not in set(stopwords.words(\"english\"))]\n",
    "    p = \" \".join(p)\n",
    "    corpus.append(p)\n",
    "\n",
    "# Vectorize the input\n",
    "B = cv.transform(corpus).toarray()\n",
    "\n",
    "# Make prediction using the SVM model\n",
    "pred = nb_model.predict(B)\n",
    "\n",
    "\n",
    "# Output the prediction\n",
    "if pred == 0:\n",
    "    print(\"Ham\")\n",
    "else:\n",
    "    print(\"Spam\")\n"
   ]
  },
  {
   "cell_type": "code",
   "execution_count": null,
   "id": "8392af59",
   "metadata": {},
   "outputs": [],
   "source": []
  }
 ],
 "metadata": {
  "kernelspec": {
   "display_name": "Python 3 (ipykernel)",
   "language": "python",
   "name": "python3"
  },
  "language_info": {
   "codemirror_mode": {
    "name": "ipython",
    "version": 3
   },
   "file_extension": ".py",
   "mimetype": "text/x-python",
   "name": "python",
   "nbconvert_exporter": "python",
   "pygments_lexer": "ipython3",
   "version": "3.11.3"
  }
 },
 "nbformat": 4,
 "nbformat_minor": 5
}
